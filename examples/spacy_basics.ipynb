{
 "cells": [
  {
   "cell_type": "markdown",
   "metadata": {},
   "source": [
    "Set your own project path"
   ]
  },
  {
   "cell_type": "code",
   "execution_count": 1,
   "metadata": {
    "collapsed": true
   },
   "outputs": [],
   "source": [
    "# set path to project -> change if needed\n",
    "project_path = '/Users/EB/Google Drive/Projects/breweries'"
   ]
  },
  {
   "cell_type": "markdown",
   "metadata": {},
   "source": [
    "Import needed modules"
   ]
  },
  {
   "cell_type": "code",
   "execution_count": 2,
   "metadata": {
    "collapsed": true
   },
   "outputs": [],
   "source": [
    "# modules\n",
    "import pickle\n",
    "import spacy\n",
    "import os"
   ]
  },
  {
   "cell_type": "markdown",
   "metadata": {},
   "source": [
    "Initialize spaCy"
   ]
  },
  {
   "cell_type": "code",
   "execution_count": 3,
   "metadata": {
    "collapsed": true
   },
   "outputs": [],
   "source": [
    "# create \"custom\" spacy pipeline (would also be standard)\n",
    "def spacy_pipe(nlp):\n",
    "    return(nlp.tagger, nlp.parser, nlp.entity)\n",
    "\n",
    "# Load custom pipeline for English\n",
    "nlp = spacy.load('en', create_pipeline = spacy_pipe)"
   ]
  },
  {
   "cell_type": "markdown",
   "metadata": {},
   "source": [
    "Look at one beer review"
   ]
  },
  {
   "cell_type": "code",
   "execution_count": 4,
   "metadata": {
    "collapsed": false
   },
   "outputs": [],
   "source": [
    "# load pickled beer reviews\n",
    "os.chdir(project_path + '/data/')\n",
    "data = pickle.load(open('reviews_sample.p', 'rb'))\n",
    "\n",
    "# start with one review to check functionality\n",
    "review = data[1][10]\n",
    "review = nlp(review)"
   ]
  },
  {
   "cell_type": "markdown",
   "metadata": {},
   "source": [
    "### Lemmatization"
   ]
  },
  {
   "cell_type": "code",
   "execution_count": 5,
   "metadata": {
    "collapsed": false
   },
   "outputs": [
    {
     "name": "stdout",
     "output_type": "stream",
     "text": [
      "['big', 'tick', 'my', 'russian', 'river', '–tion', 'quest', 'my', 'way', 'straggler', 'big', 'thanks', 'bilbosnuts', 'one', 'growler', 'green', 'man', 'snifter', 'my', '–tion', 'glass', 'florida', 'aasher', 'wedding', '\\uf04c', 'huge', 'pop', 'deep', 'ruby', 'red', 'brown', 'finger', 'white', 'head', 'that', 'minimal', 'amount', 'excellent', 'glass', 'aroma', 'sweet', 'malt', 'dark', 'chocolate', 'dark', 'fruit', 'smoke', 'bread', 'spice', 'flavor', 'sweet', 'malt', 'smoke', 'fruit', 'bread', 'dark', 'fruit', 'subtle', 'earth', 'subtle', 'spice', 'light', 'palate', 'medium', 'high', 'carbonation', 'good', 'brew', 'bit', 'one', 'that', 'sip', 'style', 'what', 'one', 'smoke', 'note', 'glass', 'which', 'nice', 'touch', 'that', 'level', 'complexity', 'my', 'palate', 'nice', 'touch', 'roastiness', 'dark', 'fruit', 'profile', 'one', 'that', 'glad', 'chance', 'rest', 'brewing', 'russian', 'river']\n"
     ]
    }
   ],
   "source": [
    "# Lemmatize the review and keep only (proper) nouns and adjectives\n",
    "# This might be \"enough\" pre-processing for e.g. cluster analysis\n",
    "interesting_pos = ('NOUN', 'PROPN', 'ADJ')\n",
    "print([word.lemma_ for word in review if word.pos_ in interesting_pos])"
   ]
  },
  {
   "cell_type": "markdown",
   "metadata": {},
   "source": [
    "### Parser"
   ]
  },
  {
   "cell_type": "code",
   "execution_count": 6,
   "metadata": {
    "collapsed": false
   },
   "outputs": [
    {
     "name": "stdout",
     "output_type": "stream",
     "text": [
      "['another big tick', 'my russian river –tion quest', 'the straggler', 'big thanks', 'this one', 'a green man snifter', 'my –tion glass', 'a huge pop', 'a deep ruby red brown', 'a one finger off - white head', 'a minimal amount', 'the glass', 'the aroma', 'sweet malt', 'dark chocolate', 'dark fruit', 'the flavor', 'sweet malt', 'dark fruit', 'subtle earth', 'subtle spice', 'the palate', 'medium - high carbonation', 'a good brew', 'quite a bit', 'this one', 'each sip', 'the style', 'this one', 'the smoke note', 'the glass', 'a very nice touch', 'another level', 'my palate', 'a nice touch', 'dark fruit profile', 'the chance', 'the rest']\n"
     ]
    }
   ],
   "source": [
    "# Parser\n",
    "# Extract noun chunks in the text (with length > 1)\n",
    "# Note: if dependency parsing is not needed, use:\n",
    "#       spacy.load('en', parser = False) to increase speed\n",
    "print([np.lemma_ for np in review.noun_chunks if len(np) > 1])"
   ]
  },
  {
   "cell_type": "markdown",
   "metadata": {},
   "source": [
    "Some of these dependencies (e.g. \"creamy head\", \"earthy spice\") are more interesting than others (e.g. \"this one\"). \n",
    "We can use a rule based system to extract them"
   ]
  },
  {
   "cell_type": "code",
   "execution_count": 7,
   "metadata": {
    "collapsed": false
   },
   "outputs": [
    {
     "name": "stdout",
     "output_type": "stream",
     "text": [
      "my russian river –tion quest\n",
      "big thanks\n",
      "my –tion glass\n",
      "sweet malt\n",
      "dark chocolate\n",
      "dark fruit\n",
      "sweet malt\n",
      "dark fruit\n",
      "subtle earth\n",
      "subtle spice\n",
      "my palate\n",
      "dark fruit profile\n"
     ]
    }
   ],
   "source": [
    "for np in review.noun_chunks:\n",
    "    toks = [token.pos_ for token in np]\n",
    "    tok_count = toks.count('PROPN') + toks.count('NOUN') + toks.count('ADJ')\n",
    "\n",
    "    if  tok_count == len(toks) & len(toks) > 1:\n",
    "        print(np.lemma_)"
   ]
  },
  {
   "cell_type": "markdown",
   "metadata": {},
   "source": [
    "### Entity Recognition"
   ]
  },
  {
   "cell_type": "code",
   "execution_count": 8,
   "metadata": {
    "collapsed": false
   },
   "outputs": [
    {
     "name": "stdout",
     "output_type": "stream",
     "text": [
      "[(Russian River, 'LOC'), (BilbosNuts, 'GPE'), (Green Man, 'ORG'), (Florida, 'GPE'), (one, 'CARDINAL'), (one, 'CARDINAL'), (Russian, 'NORP')]\n"
     ]
    }
   ],
   "source": [
    "# Currently not interesting, might be interesting for other projects\n",
    "print([(entity, entity.label_) for entity in review.ents])"
   ]
  }
 ],
 "metadata": {
  "kernelspec": {
   "display_name": "Python 3",
   "language": "python",
   "name": "python3"
  },
  "language_info": {
   "codemirror_mode": {
    "name": "ipython",
    "version": 3
   },
   "file_extension": ".py",
   "mimetype": "text/x-python",
   "name": "python",
   "nbconvert_exporter": "python",
   "pygments_lexer": "ipython3",
   "version": "3.5.2"
  }
 },
 "nbformat": 4,
 "nbformat_minor": 2
}
