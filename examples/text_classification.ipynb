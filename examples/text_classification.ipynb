{
 "cells": [
  {
   "cell_type": "markdown",
   "metadata": {},
   "source": [
    "## Text Classification with spaCy and sklearn"
   ]
  },
  {
   "cell_type": "markdown",
   "metadata": {},
   "source": [
    "Import needed modules"
   ]
  },
  {
   "cell_type": "code",
   "execution_count": 1,
   "metadata": {
    "collapsed": true
   },
   "outputs": [],
   "source": [
    "import os\n",
    "import pickle\n",
    "\n",
    "# visualization\n",
    "import matplotlib.pyplot as plt\n",
    "\n",
    "# pandas\n",
    "import pandas as pd\n",
    "\n",
    "# sklearnlinter\n",
    "from sklearn.model_selection import GridSearchCV\n",
    "from sklearn.model_selection import train_test_split\n",
    "from sklearn.pipeline import Pipeline\n",
    "from sklearn.svm import SVC\n",
    "\n",
    "# nlp\n",
    "import spacy\n",
    "import textacy"
   ]
  },
  {
   "cell_type": "markdown",
   "metadata": {},
   "source": [
    "Set the project path to your local folder."
   ]
  },
  {
   "cell_type": "code",
   "execution_count": 2,
   "metadata": {
    "collapsed": true
   },
   "outputs": [],
   "source": [
    "# set path to project -> change if needed\n",
    "project_path = '/Users/EB/Google Drive/Projects/breweries'"
   ]
  },
  {
   "cell_type": "markdown",
   "metadata": {},
   "source": [
    "Configure matplotlib: use a cleaner template."
   ]
  },
  {
   "cell_type": "code",
   "execution_count": 3,
   "metadata": {
    "collapsed": true
   },
   "outputs": [],
   "source": [
    "# configure matplotlib\n",
    "plt.style.use('seaborn-white')"
   ]
  },
  {
   "cell_type": "markdown",
   "metadata": {},
   "source": [
    "Define functions."
   ]
  },
  {
   "cell_type": "code",
   "execution_count": 4,
   "metadata": {
    "collapsed": true
   },
   "outputs": [],
   "source": [
    "def spacy_pipe(nlp):\n",
    "    \"\"\"Custom spacy pipeline.\"\"\"\n",
    "    return(nlp.tagger, nlp.parser)\n",
    "\n",
    "\n",
    "def get_lem(doc):\n",
    "    \"\"\"Return lemma of spacy doc if lemma is noun / adjective.\"\"\"\n",
    "    interesting_pos = ('NOUN', 'PROPN', 'ADJ')\n",
    "    lems = [word.lemma_ for word in doc if word.pos_ in interesting_pos]\n",
    "\n",
    "    return lems\n",
    "\n",
    "\n",
    "def get_chunk(noun_chunk):\n",
    "    \"\"\"Return interesting parts of noun chunks.\"\"\"\n",
    "    interesting_pos = ('NOUN', 'PROPN', 'ADJ', 'ADV', 'VERB')\n",
    "    chunk = [tok.lemma_ for tok in noun_chunk if tok.pos_ in interesting_pos]\n",
    "\n",
    "    if len(chunk) > 1:\n",
    "        return ' '.join(chunk)\n",
    "    else:\n",
    "        return ''\n",
    "\n",
    "\n",
    "def term_list(doc):\n",
    "    \"\"\"Return term list item which is used to create term document matrix.\"\"\"\n",
    "    tl = []\n",
    "\n",
    "    # lemmata of nouns and adjectives\n",
    "    tl.extend(get_lem(doc))\n",
    "\n",
    "    # noun chunks\n",
    "    chunks = [get_chunk(chunk) for chunk in doc.noun_chunks]\n",
    "    chunks = [chunk for chunk in chunks if chunk]\n",
    "    tl.extend(chunks)\n",
    "\n",
    "    return tl\n",
    "\n",
    "\n",
    "def get_top_topic(model, doc_topic_matrix):\n",
    "    \"\"\"Return top topic of estimated topic model.\"\"\"\n",
    "    top_topics = model.top_doc_topics(doc_topic_matrix, top_n=1)\n",
    "    top_topics = [topics[0] for doc_idx, topics in top_topics]\n",
    "    return top_topics\n",
    "\n",
    "\n",
    "def accuracy(pred, actual):\n",
    "    \"\"\"Calculate accuracy of predictions.\"\"\"\n",
    "    return sum(pred == actual) / len(pred)\n"
   ]
  },
  {
   "cell_type": "markdown",
   "metadata": {},
   "source": [
    "Load pickled data."
   ]
  },
  {
   "cell_type": "code",
   "execution_count": 5,
   "metadata": {
    "collapsed": true
   },
   "outputs": [],
   "source": [
    "os.chdir(project_path + '/data/')\n",
    "data = pickle.load(open('2styles_sample.p', 'rb'))"
   ]
  },
  {
   "cell_type": "markdown",
   "metadata": {},
   "source": [
    "Load spacy pipeline for English and parse reviews."
   ]
  },
  {
   "cell_type": "code",
   "execution_count": 6,
   "metadata": {
    "collapsed": true
   },
   "outputs": [],
   "source": [
    "# Load spacy pipeline for English\n",
    "nlp = spacy.load('en', create_pipeline=spacy_pipe)\n",
    "\n",
    "# parse via pipeline\n",
    "texts = [doc for doc in nlp.pipe(data[1], n_threads=-1)]"
   ]
  },
  {
   "cell_type": "markdown",
   "metadata": {},
   "source": [
    "Create term list and document term matrix."
   ]
  },
  {
   "cell_type": "code",
   "execution_count": 7,
   "metadata": {
    "collapsed": true
   },
   "outputs": [],
   "source": [
    "# create term list\n",
    "tl = [term_list(doc) for doc in texts]\n",
    "\n",
    "# document term matrix\n",
    "dtm_specs = {'terms_lists': (tl),\n",
    "             'weighting': 'tfidf',\n",
    "             'normalize': 'True',\n",
    "             'smooth_idf': 'True',\n",
    "             'min_df': 5,\n",
    "             'max_df': 0.95}\n",
    "\n",
    "dtm, id2t = textacy.vsm.doc_term_matrix(**dtm_specs)"
   ]
  },
  {
   "cell_type": "markdown",
   "metadata": {},
   "source": [
    "### Topic Modeling"
   ]
  },
  {
   "cell_type": "markdown",
   "metadata": {},
   "source": [
    "We use Latent Dirichlet allocation (LDA) as model to group our texts into 5 different topics."
   ]
  },
  {
   "cell_type": "code",
   "execution_count": 8,
   "metadata": {
    "collapsed": true
   },
   "outputs": [],
   "source": [
    "model = textacy.tm.TopicModel('lda', n_topics=5)\n",
    "model.fit(dtm)"
   ]
  },
  {
   "cell_type": "markdown",
   "metadata": {},
   "source": [
    "We can now read out the top 6 terms for each topic."
   ]
  },
  {
   "cell_type": "code",
   "execution_count": 9,
   "metadata": {
    "collapsed": false
   },
   "outputs": [
    {
     "name": "stdout",
     "output_type": "stream",
     "text": [
      "Topic 0 : chocolate, coffee, porter, dark, roasted, black\n",
      "Topic 1 : beer, my, good, pumpkin, what, its\n",
      "Topic 2 : lager, light, hop, white, pale, malt\n",
      "Topic 3 : hop, medium, malt, light, finish, moderate\n",
      "Topic 4 : vanilla, cream, bourbon, syrup, bean, beer\n"
     ]
    }
   ],
   "source": [
    "for topic_idx, top_terms in model.top_topic_terms(id2t, top_n=6):\n",
    "    print('Topic', topic_idx, ':', ', '.join(top_terms))"
   ]
  },
  {
   "cell_type": "markdown",
   "metadata": {},
   "source": [
    "We can now assign these topics back to our document term matrix and check how the topic relates to the beer style."
   ]
  },
  {
   "cell_type": "code",
   "execution_count": 10,
   "metadata": {
    "collapsed": true
   },
   "outputs": [],
   "source": [
    "doc_topic_matrix = model.transform(dtm)"
   ]
  },
  {
   "cell_type": "code",
   "execution_count": 11,
   "metadata": {
    "collapsed": true
   },
   "outputs": [],
   "source": [
    "df = pd.DataFrame(doc_topic_matrix)\n",
    "df['style_name'] = [i['style_name'] for i in data[0]]\n",
    "df['top_topic'] = get_top_topic(model, doc_topic_matrix)"
   ]
  },
  {
   "cell_type": "code",
   "execution_count": 12,
   "metadata": {
    "collapsed": false
   },
   "outputs": [
    {
     "name": "stdout",
     "output_type": "stream",
     "text": [
      "top_topic               0     1     2     3    4\n",
      "style_name                                      \n",
      "American Pale Lager    68  1272  4706   643  161\n",
      "American Porter      7612   981   201  1649  732\n"
     ]
    }
   ],
   "source": [
    "print(pd.crosstab(df['style_name'], df['top_topic']))"
   ]
  },
  {
   "cell_type": "markdown",
   "metadata": {},
   "source": [
    "Topics 1 and 2 mostly relate to American Pale Lager while topics 0, 3 and 4 seem to relate to American Porter.\n",
    "However, we can also visualize the frequency in percentages."
   ]
  },
  {
   "cell_type": "code",
   "execution_count": 13,
   "metadata": {
    "collapsed": false
   },
   "outputs": [
    {
     "data": {
      "image/png": "[encoded data removed]",
      "text/plain": [
       "<matplotlib.figure.Figure at 0x11acc9f60>"
      ]
     },
     "metadata": {},
     "output_type": "display_data"
    }
   ],
   "source": [
    "ct = pd.crosstab(df['top_topic'], df['style_name'])\n",
    "ct = ct.apply(lambda r: r / r.sum(), axis=1)\n",
    "\n",
    "beer_plot = ct.plot.bar(stacked=True, color=['#ead61c', '#845422'],\n",
    "                        edgecolor='none', lw=2, rot=0, figsize=(7, 6))\n",
    "beer_plot.set_xlabel('Topic')\n",
    "beer_plot.set_ylabel('Frequency (%)')\n",
    "beer_plot.legend(bbox_to_anchor=(1.12, 1.12))\n",
    "\n",
    "plt.show()"
   ]
  },
  {
   "cell_type": "markdown",
   "metadata": {},
   "source": [
    "### Support Vector Machines"
   ]
  },
  {
   "cell_type": "markdown",
   "metadata": {},
   "source": [
    "We can either use the document topic matrix or the document term matrix as explaining variables in the SVM model "
   ]
  },
  {
   "cell_type": "markdown",
   "metadata": {},
   "source": [
    "#### Option A: \n",
    "- X = document topic matrix\n",
    "- We have less variables as input and the estimation will be faster, which is nice as we have to tune many hyperparameters."
   ]
  },
  {
   "cell_type": "code",
   "execution_count": 14,
   "metadata": {
    "collapsed": true
   },
   "outputs": [],
   "source": [
    "X = pd.DataFrame(doc_topic_matrix)\n",
    "\n",
    "# numeric encoding for y variable (beer style)\n",
    "bin_encode = {'American Pale Lager': 0,\n",
    "              'American Porter': 1}\n",
    "y = df['style_name'].map(bin_encode)"
   ]
  },
  {
   "cell_type": "code",
   "execution_count": 15,
   "metadata": {
    "collapsed": false
   },
   "outputs": [],
   "source": [
    "X_train, X_test, y_train, y_test = train_test_split(X, y, test_size=0.1, random_state=123)"
   ]
  },
  {
   "cell_type": "code",
   "execution_count": 16,
   "metadata": {
    "collapsed": true
   },
   "outputs": [],
   "source": [
    "seed = 123\n",
    "folds = 5"
   ]
  },
  {
   "cell_type": "code",
   "execution_count": 17,
   "metadata": {
    "collapsed": true
   },
   "outputs": [],
   "source": [
    "# hyperparameters -> usually more tunings, just for illustration\n",
    "parameters = {'clf__kernel': ('rbf', 'poly', 'linear', 'sigmoid'),\n",
    "              'clf__gamma': ('auto', 1),\n",
    "              'clf__C': (10, 1.0, 0.1)}"
   ]
  },
  {
   "cell_type": "code",
   "execution_count": 18,
   "metadata": {
    "collapsed": false
   },
   "outputs": [
    {
     "name": "stdout",
     "output_type": "stream",
     "text": [
      "Fitting 5 folds for each of 24 candidates, totalling 120 fits\n"
     ]
    },
    {
     "name": "stderr",
     "output_type": "stream",
     "text": [
      "[Parallel(n_jobs=3)]: Done  44 tasks      | elapsed:   23.6s\n",
      "[Parallel(n_jobs=3)]: Done 120 out of 120 | elapsed:  1.4min finished\n"
     ]
    },
    {
     "name": "stdout",
     "output_type": "stream",
     "text": [
      "Best score: 0.968\n"
     ]
    }
   ],
   "source": [
    "piper = Pipeline([('clf', SVC(random_state=seed))])\n",
    "\n",
    "grid_search = GridSearchCV(piper, parameters, n_jobs=3, verbose=1,\n",
    "                           refit=True, cv=folds)\n",
    "\n",
    "grid_search.fit(X_train, y_train)\n",
    "\n",
    "print('Best score: %0.3f' % grid_search.best_score_)"
   ]
  },
  {
   "cell_type": "code",
   "execution_count": 19,
   "metadata": {
    "collapsed": false
   },
   "outputs": [
    {
     "name": "stdout",
     "output_type": "stream",
     "text": [
      "Pipeline(steps=[('clf', SVC(C=10, cache_size=200, class_weight=None, coef0=0.0,\n",
      "  decision_function_shape=None, degree=3, gamma=1, kernel='poly',\n",
      "  max_iter=-1, probability=False, random_state=123, shrinking=True,\n",
      "  tol=0.001, verbose=False))])\n"
     ]
    }
   ],
   "source": [
    "print(grid_search.best_estimator_)"
   ]
  },
  {
   "cell_type": "code",
   "execution_count": 20,
   "metadata": {
    "collapsed": false
   },
   "outputs": [
    {
     "name": "stdout",
     "output_type": "stream",
     "text": [
      "Predicted    0     1\n",
      "True                \n",
      "0          663    33\n",
      "1           27  1080\n",
      "Accuracy in test set: 0.967\n"
     ]
    }
   ],
   "source": [
    "y_pred = grid_search.predict(X_test)\n",
    "\n",
    "res = pd.DataFrame({'y_test': pd.Series(y_test)})\n",
    "res['y_pred'] = y_pred\n",
    "\n",
    "print(pd.crosstab(res['y_test'], res['y_pred'], rownames=['True'],\n",
    "                  colnames=['Predicted']))\n",
    "\n",
    "print('Accuracy in test set: %0.3f' % accuracy(res['y_pred'], res['y_test']))"
   ]
  },
  {
   "cell_type": "markdown",
   "metadata": {},
   "source": [
    "#### Option B: \n",
    "- X = document term matrix\n",
    "- We have more variables as input and the estimation will be slower for the same number of hyperparameter options"
   ]
  },
  {
   "cell_type": "code",
   "execution_count": 21,
   "metadata": {
    "collapsed": true
   },
   "outputs": [],
   "source": [
    "X = dtm\n",
    "\n",
    "# split in train and test set\n",
    "X_train, X_test, y_train, y_test = train_test_split(X, y,\n",
    "                                                    test_size=0.1,\n",
    "                                                    random_state=123)"
   ]
  },
  {
   "cell_type": "code",
   "execution_count": 22,
   "metadata": {
    "collapsed": false
   },
   "outputs": [
    {
     "name": "stdout",
     "output_type": "stream",
     "text": [
      "Fitting 5 folds for each of 2 candidates, totalling 10 fits\n"
     ]
    },
    {
     "name": "stderr",
     "output_type": "stream",
     "text": [
      "[Parallel(n_jobs=3)]: Done  10 out of  10 | elapsed:  1.4min finished\n"
     ]
    },
    {
     "name": "stdout",
     "output_type": "stream",
     "text": [
      "Best score: 0.994\n"
     ]
    }
   ],
   "source": [
    "parameters = {'clf__kernel': ('rbf', 'linear')}\n",
    "\n",
    "piper = Pipeline([('clf', SVC(C=1.0, gamma='auto', random_state=seed))])\n",
    "\n",
    "grid_search = GridSearchCV(piper, parameters, n_jobs=3, verbose=1,\n",
    "                           refit=True, cv=folds)\n",
    "\n",
    "grid_search.fit(X_train, y_train)\n",
    "\n",
    "print('Best score: %0.3f' % grid_search.best_score_)"
   ]
  },
  {
   "cell_type": "code",
   "execution_count": 23,
   "metadata": {
    "collapsed": false
   },
   "outputs": [
    {
     "name": "stdout",
     "output_type": "stream",
     "text": [
      "Pipeline(steps=[('clf', SVC(C=1.0, cache_size=200, class_weight=None, coef0=0.0,\n",
      "  decision_function_shape=None, degree=3, gamma='auto', kernel='rbf',\n",
      "  max_iter=-1, probability=False, random_state=123, shrinking=True,\n",
      "  tol=0.001, verbose=False))])\n"
     ]
    }
   ],
   "source": [
    "print(grid_search.best_estimator_)"
   ]
  },
  {
   "cell_type": "code",
   "execution_count": 24,
   "metadata": {
    "collapsed": true
   },
   "outputs": [],
   "source": [
    "y_pred = grid_search.predict(X_test)\n",
    "res = pd.DataFrame({'y_test': pd.Series(y_test)})\n",
    "res['y_pred'] = y_pred"
   ]
  },
  {
   "cell_type": "code",
   "execution_count": 25,
   "metadata": {
    "collapsed": false
   },
   "outputs": [
    {
     "name": "stdout",
     "output_type": "stream",
     "text": [
      "Predicted    0     1\n",
      "True                \n",
      "0          693     3\n",
      "1           11  1096\n"
     ]
    }
   ],
   "source": [
    "print(pd.crosstab(res['y_test'], res['y_pred'], rownames=['True'],\n",
    "                  colnames=['Predicted']))"
   ]
  },
  {
   "cell_type": "code",
   "execution_count": 26,
   "metadata": {
    "collapsed": false
   },
   "outputs": [
    {
     "name": "stdout",
     "output_type": "stream",
     "text": [
      "Accuracy in test set: 0.992\n"
     ]
    }
   ],
   "source": [
    "print('Accuracy in test set: %0.3f' % accuracy(res['y_pred'], res['y_test']))"
   ]
  }
 ],
 "metadata": {
  "kernelspec": {
   "display_name": "Python 3",
   "language": "python",
   "name": "python3"
  },
  "language_info": {
   "codemirror_mode": {
    "name": "ipython",
    "version": 3
   },
   "file_extension": ".py",
   "mimetype": "text/x-python",
   "name": "python",
   "nbconvert_exporter": "python",
   "pygments_lexer": "ipython3",
   "version": "3.5.2"
  }
 },
 "nbformat": 4,
 "nbformat_minor": 2
}
